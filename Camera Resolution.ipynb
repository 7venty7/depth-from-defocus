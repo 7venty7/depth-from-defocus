{
 "cells": [
  {
   "cell_type": "code",
   "execution_count": 11,
   "metadata": {},
   "outputs": [
    {
     "data": {
      "image/png": "[encoded data removed]",
      "text/plain": [
       "<Figure size 640x480 with 1 Axes>"
      ]
     },
     "metadata": {},
     "output_type": "display_data"
    }
   ],
   "source": [
    "import cv2\n",
    "import numpy as np\n",
    "import matplotlib.pyplot as plt\n",
    "\n",
    "\n",
    "\n",
    "def load_image(image_path):\n",
    "    # Load the image using OpenCV\n",
    "    image = cv2.imread(image_path, cv2.IMREAD_COLOR)\n",
    "    # Convert from BGR to RGB for display\n",
    "    return cv2.cvtColor(image, cv2.COLOR_BGR2RGB)\n",
    "\n",
    "def simulate_physical_sensor(image, pixel_size, pixel_pitch, sensor_size):\n",
    "    # Calculate effective resolution based on sensor properties\n",
    "    original_height, original_width = image.shape[:2]\n",
    "    \n",
    "    # Effective resolution\n",
    "    effective_width = int(sensor_size[0] / (pixel_size + pixel_pitch))\n",
    "    effective_height = int(sensor_size[1] / (pixel_size + pixel_pitch))\n",
    "    \n",
    "    # Downscale image to effective resolution\n",
    "    downscaled_image = cv2.resize(image, (effective_width, effective_height), interpolation=cv2.INTER_AREA)\n",
    "    \n",
    "    # Upscale back to original size for visualization\n",
    "    simulated_image = cv2.resize(downscaled_image, (original_width, original_height), interpolation=cv2.INTER_NEAREST)\n",
    "    \n",
    "    return downscaled_image\n",
    "\n",
    "def display_image(image, title=\"Image\"):\n",
    "    plt.imshow(image)\n",
    "    plt.title(title)\n",
    "    plt.axis('off')\n",
    "    plt.show()\n",
    "\n",
    "# Example usage\n",
    "image_path = '09.JPG'\n",
    "image = load_image(image_path)\n",
    "\n",
    "# Simulate with specific pixel size, pitch, and sensor size\n",
    "pixel_size =  3000 # in micrometers\n",
    "pixel_pitch = 5000 # in micrometers\n",
    "sensor_size = (60000, 60000)  # in micrometers (width, height)\n",
    "\n",
    "simulated_image = simulate_physical_sensor(image, pixel_size, pixel_pitch, sensor_size)\n",
    "\n",
    "display_image(simulated_image, \"09.JPG\")\n",
    "\n",
    "simulated_image\n",
    "simulated_image_gray =cv2.cvtColor(simulated_image, cv2.COLOR_BGR2GRAY)\n"
   ]
  },
  {
   "cell_type": "code",
   "execution_count": 13,
   "metadata": {},
   "outputs": [
    {
     "data": {
      "image/png": "[encoded data removed]",
      "text/plain": [
       "<Figure size 640x480 with 1 Axes>"
      ]
     },
     "metadata": {},
     "output_type": "display_data"
    },
    {
     "data": {
      "text/plain": [
       "array([[ 1,  0,  0,  0,  1,  1,  2],\n",
       "       [ 0,  0, -1,  0,  0,  0,  1],\n",
       "       [ 0,  0, -1,  0, -2,  0,  0],\n",
       "       [ 0,  1, -1,  1,  1,  2, -1],\n",
       "       [-1,  0,  0,  0, -1, -2, -1],\n",
       "       [ 0,  0, -1, -1,  0,  2, -1],\n",
       "       [-1,  0, -1, -1, -1,  0, -1]], dtype=int32)"
      ]
     },
     "execution_count": 13,
     "metadata": {},
     "output_type": "execute_result"
    }
   ],
   "source": [
    "image_path1 = '53.JPG'\n",
    "image = load_image(image_path1)\n",
    "\n",
    "# Simulate with specific pixel size, pitch, and sensor size\n",
    "pixel_size =  3000 # in micrometers\n",
    "pixel_pitch = 5000 # in micrometers\n",
    "sensor_size = (60000, 60000)  # in micrometers (width, height)\n",
    "\n",
    "simulated_image1 = simulate_physical_sensor(image, pixel_size, pixel_pitch, sensor_size)\n",
    "\n",
    "display_image(simulated_image1, \"53.JPG\")\n",
    "\n",
    "simulated_image_gray1 =cv2.cvtColor(simulated_image1, cv2.COLOR_BGR2GRAY)\n",
    "simulated_image_gray.astype(np.int32)- simulated_image_gray1.astype(np.int32)\n"
   ]
  },
  {
   "cell_type": "markdown",
   "metadata": {},
   "source": [
    "How INTER_AREA Works\n",
    "Pixel Area Relation: When shrinking an image, INTER_AREA calculates the average of multiple pixels from the original image to determine the value of a single pixel in the resized image. Essentially, it considers the contribution of each pixel in the area that maps to a pixel in the downscaled image.\n",
    "Averaging Pixels: For example, if you're reducing the size of an image by half, INTER_AREA might average groups of 2x2 pixels from the original image to produce a single pixel in the resized image. This process helps in preserving more of the image's detail and reducing aliasing or moiré patterns, which can occur when downscaling images.\n",
    "\n"
   ]
  },
  {
   "cell_type": "code",
   "execution_count": 4,
   "metadata": {},
   "outputs": [
    {
     "data": {
      "text/plain": [
       "28"
      ]
     },
     "execution_count": 4,
     "metadata": {},
     "output_type": "execute_result"
    }
   ],
   "source": [
    "effective_width = int(sensor_size[0] / (pixel_size + pixel_pitch))\n",
    "effective_width"
   ]
  }
 ],
 "metadata": {
  "language_info": {
   "name": "python"
  }
 },
 "nbformat": 4,
 "nbformat_minor": 2
}
